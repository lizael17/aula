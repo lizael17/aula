{
  "nbformat": 4,
  "nbformat_minor": 0,
  "metadata": {
    "colab": {
      "provenance": []
    },
    "kernelspec": {
      "name": "python3",
      "display_name": "Python 3"
    },
    "language_info": {
      "name": "python"
    }
  },
  "cells": [
    {
      "cell_type": "code",
      "execution_count": 3,
      "metadata": {
        "colab": {
          "base_uri": "https://localhost:8080/"
        },
        "id": "hK5Q6OqPrEU4",
        "outputId": "8a15c5eb-a023-4aa1-ff4b-38d2819ea8bc"
      },
      "outputs": [
        {
          "output_type": "stream",
          "name": "stdout",
          "text": [
            "{'b', 'd', 'c', 'g', 'f', 'a'}\n"
          ]
        }
      ],
      "source": [
        "letras = {'a','b','c','a','d','c','a','f','g'}\n",
        "print(letras)\n",
        "\n"
      ]
    },
    {
      "cell_type": "code",
      "source": [
        "frutas = ['uva','maca','tangerina','uva']\n",
        "print(f'aqui frutas estão em uma lista: {frutas}')\n",
        "frutas = set(frutas)\n",
        "print(f'Agora frutas estão em uma lista: {frutas}')"
      ],
      "metadata": {
        "colab": {
          "base_uri": "https://localhost:8080/"
        },
        "id": "Gjn-qNF1s_kH",
        "outputId": "06b628cf-76c7-4f12-94d6-ac6b8bac5da0"
      },
      "execution_count": 4,
      "outputs": [
        {
          "output_type": "stream",
          "name": "stdout",
          "text": [
            "aqui frutas estão em uma lista: ['uva', 'maca', 'tangerina', 'uva']\n",
            "Agora frutas estão em uma lista: {'tangerina', 'uva', 'maca'}\n"
          ]
        }
      ]
    },
    {
      "cell_type": "code",
      "source": [
        "frutas = {'uva','maca','tangerina','uva'}\n",
        "frutas.clear()\n",
        "print(frutas)\n"
      ],
      "metadata": {
        "colab": {
          "base_uri": "https://localhost:8080/"
        },
        "id": "__iv2fkLwO7H",
        "outputId": "da1605c3-341c-47fc-975b-4f1b50268abf"
      },
      "execution_count": 11,
      "outputs": [
        {
          "output_type": "stream",
          "name": "stdout",
          "text": [
            "set()\n"
          ]
        }
      ]
    },
    {
      "cell_type": "code",
      "source": [
        "frutas = {'uva','maca','tangerina','uva'}\n",
        "verduras = {'cebola','pimentão'}\n",
        "vegetais = frutas.union(verduras)\n",
        "print(vegetais)"
      ],
      "metadata": {
        "colab": {
          "base_uri": "https://localhost:8080/"
        },
        "id": "NlLd4Uyaz0JW",
        "outputId": "f353ce53-d65f-471c-c45b-aa3780c81f9d"
      },
      "execution_count": 12,
      "outputs": [
        {
          "output_type": "stream",
          "name": "stdout",
          "text": [
            "{'uva', 'pimentão', 'maca', 'cebola', 'tangerina'}\n"
          ]
        }
      ]
    },
    {
      "cell_type": "code",
      "source": [
        "frutas = {'uva','maca','tangerina','uva'}\n",
        "verduras = {'cebola','pimentão'}\n",
        "vegetais = frutas | verduras\n",
        "print(vegetais)"
      ],
      "metadata": {
        "colab": {
          "base_uri": "https://localhost:8080/"
        },
        "id": "YotlcPHJ0Yg0",
        "outputId": "63a32af6-fb00-433f-beee-e9f037133096"
      },
      "execution_count": 13,
      "outputs": [
        {
          "output_type": "stream",
          "name": "stdout",
          "text": [
            "{'uva', 'pimentão', 'maca', 'cebola', 'tangerina'}\n"
          ]
        }
      ]
    },
    {
      "cell_type": "code",
      "source": [
        "web = {'html','javascript','python','css'}\n",
        "mobile = {'fluter','python','kotlin','javascript'}\n",
        "ambas = web & mobile\n",
        "print(ambas)"
      ],
      "metadata": {
        "colab": {
          "base_uri": "https://localhost:8080/"
        },
        "id": "dUqhH3iG1VZ9",
        "outputId": "818db303-7ec4-4369-cbad-17bf48c94db3"
      },
      "execution_count": 15,
      "outputs": [
        {
          "output_type": "stream",
          "name": "stdout",
          "text": [
            "{'javascript', 'python'}\n"
          ]
        }
      ]
    },
    {
      "cell_type": "code",
      "source": [
        "web = {'html','javascript','python','css'}\n",
        "mobile = {'fluter','python','kotlin','javascript'}\n",
        "diferenca = web.difference(mobile)\n",
        "print(diferenca)"
      ],
      "metadata": {
        "colab": {
          "base_uri": "https://localhost:8080/"
        },
        "id": "uu5NEVAV21IF",
        "outputId": "7219c136-9903-4ef1-9169-0c0d8e1945ca"
      },
      "execution_count": 16,
      "outputs": [
        {
          "output_type": "stream",
          "name": "stdout",
          "text": [
            "{'html', 'css'}\n"
          ]
        }
      ]
    },
    {
      "cell_type": "code",
      "source": [
        "web = {'html','javascript','python','css'}\n",
        "mobile = {'fluter','python','kotlin','javascript'}\n",
        "diferenca1 = web - mobile\n",
        "diferenca2 = mobile - web\n",
        "print(diferenca1,'-',diferenca2)"
      ],
      "metadata": {
        "colab": {
          "base_uri": "https://localhost:8080/"
        },
        "id": "ESylVyVU3KCk",
        "outputId": "181f412d-c8cf-45ed-b455-4e567322294f"
      },
      "execution_count": 17,
      "outputs": [
        {
          "output_type": "stream",
          "name": "stdout",
          "text": [
            "{'html', 'css'} - {'kotlin', 'fluter'}\n"
          ]
        }
      ]
    },
    {
      "cell_type": "code",
      "source": [
        "web = {'javascript','python'}\n",
        "mobile = {'fluter','python','kotlin','javascript'}\n",
        "x = web.issubset(mobile)\n",
        "print(x)"
      ],
      "metadata": {
        "colab": {
          "base_uri": "https://localhost:8080/"
        },
        "id": "-Lscqual4STE",
        "outputId": "33cd3f93-31de-48d8-afed-d2f754e97c0b"
      },
      "execution_count": 18,
      "outputs": [
        {
          "output_type": "stream",
          "name": "stdout",
          "text": [
            "True\n"
          ]
        }
      ]
    },
    {
      "cell_type": "code",
      "source": [
        "web = {'javascript','python'}\n",
        "mobile = {'fluter','python','kotlin','javascript'}\n",
        "x = web.issuperset(mobile)\n",
        "print(x)"
      ],
      "metadata": {
        "colab": {
          "base_uri": "https://localhost:8080/"
        },
        "id": "SoDQmZH85UOO",
        "outputId": "6c4b30cb-3639-403e-9c88-7d3d111c09c1"
      },
      "execution_count": 19,
      "outputs": [
        {
          "output_type": "stream",
          "name": "stdout",
          "text": [
            "False\n"
          ]
        }
      ]
    },
    {
      "cell_type": "code",
      "source": [
        "web = {'javascript','python'}\n",
        "mobile = {'fluter','python','kotlin','javascript'}\n",
        "x = web.isdisjoint(mobile)\n",
        "print(x)"
      ],
      "metadata": {
        "colab": {
          "base_uri": "https://localhost:8080/"
        },
        "id": "cGmeWzNU5ymM",
        "outputId": "de9d7060-b25a-4f7b-d0e8-ac31aa58329e"
      },
      "execution_count": 21,
      "outputs": [
        {
          "output_type": "stream",
          "name": "stdout",
          "text": [
            "False\n"
          ]
        }
      ]
    },
    {
      "cell_type": "code",
      "source": [
        "x=set()\n",
        "y=set()\n",
        "while True:\n",
        "    a=set(input('insira um dado aqui:'))\n",
        "    b=set(input('insira um dado aqui:'))\n",
        "    c=str(input('para sair digite sair ')).upper()\n",
        "    if c != 'SAIR':\n",
        "        x=a.union(a)\n",
        "        y=b.union(b)\n",
        "    else:\n",
        "        y=b.union(a)\n",
        "        x=a.union(b)\n",
        "        break\n",
        "print(x,y)\n",
        "while True:\n",
        "    res=int(input(f'''digite 1 para falar interseção ,\n",
        "    para fazer o discarte de um digite 2\n",
        "    digite 3 para saber se ele tem algo em comun \n",
        "    digite 4 para saber se um conjunto é super ou sub de outro'''))\n",
        "    if res == 1:\n",
        "        z=x.intersection(x)\n",
        "        print(f'interseção dos dois conjuntos é {z}')\n",
        "    elif res == 2:\n",
        "        disc=input('digite o que precisa descartar um conjunto: ')\n",
        "        if esc == 'x':\n",
        "            esc = x\n",
        "        else:\n",
        "            esc = y\n",
        "            disc=input('digite oque precisa descartar do conjundo: ')\n",
        "            z.discard(disc)\n",
        "            print(esc)\n",
        "    elif res == 3:\n",
        "        isdis = y.isdisjoint(x)\n",
        "        if isdis == True:\n",
        "            print(f'não tem nada em comun entre os conjuntos x:{x} = y:{y}.')\n",
        "        else:\n",
        "            print(f'Os conjuntos x: {x} = y:{y} tem indices em comun.')\n",
        "    elif res == 4:\n",
        "        ecrev = y.issubset(x)\n",
        "        if ecrev == True:\n",
        "            print(f'esses conjuntos são super {x} {y} .')\n",
        "        else:\n",
        "            print(f'esses conjuntos são sub {x} {y} .')\n",
        "            break"
      ],
      "metadata": {
        "id": "FMEUl2uB7E5j"
      },
      "execution_count": null,
      "outputs": []
    },
    {
      "cell_type": "code",
      "source": [
        "a={1,2,3,4,}\n",
        "b={1,4,5,6}\n",
        "c=a.union(b)\n",
        "c"
      ],
      "metadata": {
        "colab": {
          "base_uri": "https://localhost:8080/"
        },
        "id": "pVtiFzZ1AbUK",
        "outputId": "5a7fa293-05aa-4e82-c43a-6633dbda04b2"
      },
      "execution_count": 52,
      "outputs": [
        {
          "output_type": "execute_result",
          "data": {
            "text/plain": [
              "{1, 2, 3, 4, 5, 6}"
            ]
          },
          "metadata": {},
          "execution_count": 52
        }
      ]
    },
    {
      "cell_type": "code",
      "source": [
        "nome = {'banana','maçã','uva'}\n",
        "a=['banana']\n",
        "a"
      ],
      "metadata": {
        "colab": {
          "base_uri": "https://localhost:8080/"
        },
        "id": "9v_Li0T6ZRcb",
        "outputId": "5b0b2bab-1734-4a1b-8244-98c3ee86269a"
      },
      "execution_count": 61,
      "outputs": [
        {
          "output_type": "execute_result",
          "data": {
            "text/plain": [
              "['banana']"
            ]
          },
          "metadata": {},
          "execution_count": 61
        }
      ]
    },
    {
      "cell_type": "code",
      "source": [
        "dados_funcionarios = {'nome':'joao','idade':32,'altura':1.65,'ativo':True,'dependentes':{'filhos':2,'conjuge':True}}\n",
        "dados_funcionarios['salario']=1500.00\n",
        "dados_funcionarios ['dependentes']['filhos']*100.00+dados_funcionarios['dependentes']['conjuge']*100+dados_funcionarios['salario']\n",
        "dados_funcionarios.pop('altura')\n",
        "dados_funcionarios.keys()\n",
        "dados_funcionarios.values()\n",
        "dados_funcionarios.items()\n",
        "dados_salvo = dados_funcionarios.copy()\n",
        "dados_salvo.clear()\n",
        "print(dados_salvo)\n",
        "dados_funcionarios.get('nome')\n",
        "dados_funcionarios.get('endereço')"
      ],
      "metadata": {
        "colab": {
          "base_uri": "https://localhost:8080/"
        },
        "id": "_38dCqsPd0c5",
        "outputId": "45e05959-988d-4640-c2ba-04281303bf28"
      },
      "execution_count": 80,
      "outputs": [
        {
          "output_type": "stream",
          "name": "stdout",
          "text": [
            "{}\n"
          ]
        }
      ]
    },
    {
      "cell_type": "code",
      "source": [
        "lc=['nome','idade','endereço']\n",
        "lv=['Bruna',28,'Rua das Rosas']\n",
        "dicionario=dict(zip(lc,lv))\n",
        "print(dicionario)"
      ],
      "metadata": {
        "colab": {
          "base_uri": "https://localhost:8080/"
        },
        "id": "HnshD8D9pYzf",
        "outputId": "88186af7-3d6e-4fe1-c512-61d917a139a6"
      },
      "execution_count": 82,
      "outputs": [
        {
          "output_type": "stream",
          "name": "stdout",
          "text": [
            "{'nome': 'Bruna', 'idade': 28, 'endereço': 'Rua das Rosas'}\n"
          ]
        }
      ]
    }
  ]
}